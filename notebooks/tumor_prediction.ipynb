{
 "cells": [
  {
   "cell_type": "markdown",
   "metadata": {
    "slideshow": {
     "slide_type": "slide"
    }
   },
   "source": [
    "# Response criteria prediction for tumor\n",
    "Sam Tomioka<br>\n",
    "2019-09-27\n",
    "\n",
    "This notebook is for PhUSE AI/ML Project Tumor response prediction challenge"
   ]
  },
  {
   "cell_type": "markdown",
   "metadata": {
    "slideshow": {
     "slide_type": "slide"
    }
   },
   "source": [
    "## 1 - Import libraries"
   ]
  },
  {
   "cell_type": "code",
   "execution_count": 1,
   "metadata": {
    "slideshow": {
     "slide_type": "subslide"
    }
   },
   "outputs": [
    {
     "name": "stdout",
     "output_type": "stream",
     "text": [
      "sklearn==0.21.1\n",
      "xgboost==0.90\n"
     ]
    }
   ],
   "source": [
    "%load_ext autoreload\n",
    "%autoreload 2\n",
    "\n",
    "import pandas as pd\n",
    "import numpy as np\n",
    "import os\n",
    "import xgboost as xgb\n",
    "from xgboost import XGBClassifier\n",
    "from scipy import stats\n",
    "import sklearn\n",
    "from sklearn.model_selection import train_test_split\\\n",
    ", cross_val_score, GridSearchCV, StratifiedKFold, RandomizedSearchCV\n",
    "from sklearn.preprocessing import MinMaxScaler, normalize\n",
    "\n",
    "from sklearn.linear_model import LogisticRegression\n",
    "from sklearn.ensemble import RandomForestClassifier\n",
    "from sklearn.svm import SVC\n",
    "from sklearn.svm import LinearSVC\n",
    "from sklearn.metrics import accuracy_score,roc_curve, auc\n",
    "from sklearn.neighbors import KNeighborsClassifier\n",
    "\n",
    "from lib import myutil\n",
    "from matplotlib import pyplot as plt\n",
    "from matplotlib import cm as cm\n",
    "import seaborn as sns\n",
    "%matplotlib inline\n",
    "\n",
    "print('sklearn=={}\\nxgboost=={}'.format(sklearn.__version__,xgb.__version__))"
   ]
  },
  {
   "cell_type": "markdown",
   "metadata": {
    "slideshow": {
     "slide_type": "slide"
    }
   },
   "source": [
    "## 2 - Import data"
   ]
  },
  {
   "cell_type": "code",
   "execution_count": 2,
   "metadata": {
    "slideshow": {
     "slide_type": "fragment"
    }
   },
   "outputs": [
    {
     "data": {
      "text/plain": [
       "(9000, 8)"
      ]
     },
     "execution_count": 2,
     "metadata": {},
     "output_type": "execute_result"
    }
   ],
   "source": [
    "traindf=pd.read_excel(os.path.join('..','data','dummyTGR2.xlsx'))\n",
    "\n",
    "traindf.dropna(inplace=True)\n",
    "traindf.shape"
   ]
  },
  {
   "cell_type": "code",
   "execution_count": 3,
   "metadata": {
    "slideshow": {
     "slide_type": "subslide"
    }
   },
   "outputs": [
    {
     "data": {
      "text/html": [
       "<div>\n",
       "<style scoped>\n",
       "    .dataframe tbody tr th:only-of-type {\n",
       "        vertical-align: middle;\n",
       "    }\n",
       "\n",
       "    .dataframe tbody tr th {\n",
       "        vertical-align: top;\n",
       "    }\n",
       "\n",
       "    .dataframe thead th {\n",
       "        text-align: right;\n",
       "    }\n",
       "</style>\n",
       "<table border=\"1\" class=\"dataframe\">\n",
       "  <thead>\n",
       "    <tr style=\"text-align: right;\">\n",
       "      <th></th>\n",
       "      <th>SUMLDIAM</th>\n",
       "      <th>SUMNLNLD</th>\n",
       "      <th>SUMDIAM</th>\n",
       "      <th>PCBSD</th>\n",
       "      <th>NADIR</th>\n",
       "      <th>ACNSD</th>\n",
       "      <th>PCNSD</th>\n",
       "      <th>TRGRESP</th>\n",
       "    </tr>\n",
       "  </thead>\n",
       "  <tbody>\n",
       "    <tr>\n",
       "      <th>1</th>\n",
       "      <td>48</td>\n",
       "      <td>7</td>\n",
       "      <td>55</td>\n",
       "      <td>-55</td>\n",
       "      <td>122</td>\n",
       "      <td>-67</td>\n",
       "      <td>-55</td>\n",
       "      <td>PR</td>\n",
       "    </tr>\n",
       "    <tr>\n",
       "      <th>2</th>\n",
       "      <td>10</td>\n",
       "      <td>7</td>\n",
       "      <td>17</td>\n",
       "      <td>-86</td>\n",
       "      <td>55</td>\n",
       "      <td>-38</td>\n",
       "      <td>-69</td>\n",
       "      <td>PR</td>\n",
       "    </tr>\n",
       "    <tr>\n",
       "      <th>3</th>\n",
       "      <td>27</td>\n",
       "      <td>9</td>\n",
       "      <td>36</td>\n",
       "      <td>-70</td>\n",
       "      <td>17</td>\n",
       "      <td>19</td>\n",
       "      <td>112</td>\n",
       "      <td>PD</td>\n",
       "    </tr>\n",
       "    <tr>\n",
       "      <th>4</th>\n",
       "      <td>7</td>\n",
       "      <td>0</td>\n",
       "      <td>7</td>\n",
       "      <td>-94</td>\n",
       "      <td>17</td>\n",
       "      <td>-10</td>\n",
       "      <td>-59</td>\n",
       "      <td>PR</td>\n",
       "    </tr>\n",
       "    <tr>\n",
       "      <th>5</th>\n",
       "      <td>0</td>\n",
       "      <td>0</td>\n",
       "      <td>0</td>\n",
       "      <td>-100</td>\n",
       "      <td>7</td>\n",
       "      <td>-7</td>\n",
       "      <td>-100</td>\n",
       "      <td>CR</td>\n",
       "    </tr>\n",
       "  </tbody>\n",
       "</table>\n",
       "</div>"
      ],
      "text/plain": [
       "   SUMLDIAM  SUMNLNLD  SUMDIAM  PCBSD  NADIR  ACNSD  PCNSD TRGRESP\n",
       "1        48         7       55    -55    122    -67    -55      PR\n",
       "2        10         7       17    -86     55    -38    -69      PR\n",
       "3        27         9       36    -70     17     19    112      PD\n",
       "4         7         0        7    -94     17    -10    -59      PR\n",
       "5         0         0        0   -100      7     -7   -100      CR"
      ]
     },
     "execution_count": 3,
     "metadata": {},
     "output_type": "execute_result"
    }
   ],
   "source": [
    "traindf.head()"
   ]
  },
  {
   "cell_type": "markdown",
   "metadata": {
    "slideshow": {
     "slide_type": "fragment"
    }
   },
   "source": [
    "- class variable: `TRGRESP`\n",
    "- Other columns are features"
   ]
  },
  {
   "cell_type": "markdown",
   "metadata": {
    "slideshow": {
     "slide_type": "slide"
    }
   },
   "source": [
    "## 3 - Check missing"
   ]
  },
  {
   "cell_type": "code",
   "execution_count": 4,
   "metadata": {
    "slideshow": {
     "slide_type": "fragment"
    }
   },
   "outputs": [
    {
     "name": "stdout",
     "output_type": "stream",
     "text": [
      "Number of missing in SUMLDIAM: 0\n",
      "Number of missing in SUMNLNLD: 0\n",
      "Number of missing in SUMDIAM: 0\n",
      "Number of missing in PCBSD: 0\n",
      "Number of missing in NADIR: 0\n",
      "Number of missing in ACNSD: 0\n",
      "Number of missing in PCNSD: 0\n",
      "Number of missing in TRGRESP: 0\n"
     ]
    }
   ],
   "source": [
    "for c in traindf.columns:\n",
    "    print ('Number of missing in {}: {}'\\\n",
    "           .format(c, len(traindf[traindf[c].isnull()])))"
   ]
  },
  {
   "cell_type": "markdown",
   "metadata": {
    "slideshow": {
     "slide_type": "slide"
    }
   },
   "source": [
    "## 4 - check distribution"
   ]
  },
  {
   "cell_type": "markdown",
   "metadata": {
    "slideshow": {
     "slide_type": "fragment"
    }
   },
   "source": [
    "### - class variable"
   ]
  },
  {
   "cell_type": "code",
   "execution_count": 5,
   "metadata": {
    "slideshow": {
     "slide_type": "fragment"
    }
   },
   "outputs": [
    {
     "data": {
      "text/plain": [
       "PD    0.316222\n",
       "PR    0.305000\n",
       "CR    0.253444\n",
       "SD    0.125333\n",
       "Name: TRGRESP, dtype: float64"
      ]
     },
     "execution_count": 5,
     "metadata": {},
     "output_type": "execute_result"
    }
   ],
   "source": [
    "dist=traindf['TRGRESP'].value_counts()/len(traindf['TRGRESP'])\n",
    "dist"
   ]
  },
  {
   "cell_type": "code",
   "execution_count": 6,
   "metadata": {
    "slideshow": {
     "slide_type": "fragment"
    }
   },
   "outputs": [],
   "source": [
    "n_class=4\n",
    "weight_dict={'PD': (1/n_class)/dist[0]\n",
    "            ,'PR': (1/n_class)/dist[1]\n",
    "            ,'CR': (1/n_class)/dist[2] \n",
    "            ,'SD': (1/n_class)/dist[3]\n",
    "            }\n",
    "wt = traindf['TRGRESP'].map(weight_dict)"
   ]
  },
  {
   "cell_type": "markdown",
   "metadata": {
    "slideshow": {
     "slide_type": "fragment"
    }
   },
   "source": [
    "May need to adjust the imbalance"
   ]
  },
  {
   "cell_type": "markdown",
   "metadata": {
    "slideshow": {
     "slide_type": "subslide"
    }
   },
   "source": [
    "### - covariates (features)"
   ]
  },
  {
   "cell_type": "code",
   "execution_count": 7,
   "metadata": {
    "slideshow": {
     "slide_type": "subslide"
    }
   },
   "outputs": [
    {
     "data": {
      "text/plain": [
       "array([[<matplotlib.axes._subplots.AxesSubplot object at 0x0000014705B51358>,\n",
       "        <matplotlib.axes._subplots.AxesSubplot object at 0x0000014705799390>,\n",
       "        <matplotlib.axes._subplots.AxesSubplot object at 0x00000147058E78D0>],\n",
       "       [<matplotlib.axes._subplots.AxesSubplot object at 0x000001470572DE10>,\n",
       "        <matplotlib.axes._subplots.AxesSubplot object at 0x00000147057AD3C8>,\n",
       "        <matplotlib.axes._subplots.AxesSubplot object at 0x000001470597E940>],\n",
       "       [<matplotlib.axes._subplots.AxesSubplot object at 0x0000014705CD7EB8>,\n",
       "        <matplotlib.axes._subplots.AxesSubplot object at 0x0000014705B7F4A8>,\n",
       "        <matplotlib.axes._subplots.AxesSubplot object at 0x0000014705B7F4E0>]],\n",
       "      dtype=object)"
      ]
     },
     "execution_count": 7,
     "metadata": {},
     "output_type": "execute_result"
    },
    {
     "data": {
      "image/png": "[encoded data removed]",
      "text/plain": [
       "<Figure size 1152x1440 with 9 Axes>"
      ]
     },
     "metadata": {
      "needs_background": "light"
     },
     "output_type": "display_data"
    }
   ],
   "source": [
    "traindf.hist(figsize=(16, 20)\n",
    "        , bins=30\n",
    "        , xlabelsize=8\n",
    "        , ylabelsize=8)"
   ]
  },
  {
   "cell_type": "markdown",
   "metadata": {
    "slideshow": {
     "slide_type": "subslide"
    }
   },
   "source": [
    "### - check for confounding"
   ]
  },
  {
   "cell_type": "markdown",
   "metadata": {
    "slideshow": {
     "slide_type": "subslide"
    }
   },
   "source": [
    "### - check for multicollinearity"
   ]
  },
  {
   "cell_type": "code",
   "execution_count": 8,
   "metadata": {
    "slideshow": {
     "slide_type": "subslide"
    }
   },
   "outputs": [
    {
     "data": {
      "image/png": "[encoded data removed]",
      "text/plain": [
       "<Figure size 864x720 with 2 Axes>"
      ]
     },
     "metadata": {
      "needs_background": "light"
     },
     "output_type": "display_data"
    }
   ],
   "source": [
    "myutil.corr_matrix(traindf)"
   ]
  },
  {
   "cell_type": "markdown",
   "metadata": {
    "slideshow": {
     "slide_type": "fragment"
    }
   },
   "source": [
    "SUMLDAM dependent of PCBSD,\n",
    "PCBSD looks dependent on SUMDIAM, but these are probably okay to keep"
   ]
  },
  {
   "cell_type": "markdown",
   "metadata": {
    "slideshow": {
     "slide_type": "slide"
    }
   },
   "source": [
    "## 5. Split, pre-process"
   ]
  },
  {
   "cell_type": "code",
   "execution_count": 9,
   "metadata": {
    "slideshow": {
     "slide_type": "fragment"
    }
   },
   "outputs": [
    {
     "data": {
      "text/plain": [
       "((9000, 8), 1350.0)"
      ]
     },
     "execution_count": 9,
     "metadata": {},
     "output_type": "execute_result"
    }
   ],
   "source": [
    "traindf.shape,traindf.shape[0]*.15"
   ]
  },
  {
   "cell_type": "code",
   "execution_count": 10,
   "metadata": {
    "slideshow": {
     "slide_type": "fragment"
    }
   },
   "outputs": [],
   "source": [
    "X_tr, X_ts, y_tr, y_ts = train_test_split(traindf.iloc[:,0:7]\n",
    "                                          , traindf['TRGRESP']\n",
    "                                          , random_state=2019\n",
    "                                          , stratify=traindf['TRGRESP']\n",
    "                                          , test_size =0.15)\n"
   ]
  },
  {
   "cell_type": "markdown",
   "metadata": {
    "slideshow": {
     "slide_type": "subslide"
    }
   },
   "source": [
    "confirm stratification"
   ]
  },
  {
   "cell_type": "code",
   "execution_count": 11,
   "metadata": {
    "scrolled": true,
    "slideshow": {
     "slide_type": "fragment"
    }
   },
   "outputs": [
    {
     "name": "stdout",
     "output_type": "stream",
     "text": [
      "PD    0.316209\n",
      "PR    0.304967\n",
      "CR    0.253464\n",
      "SD    0.125359\n",
      "Name: TRGRESP, dtype: float64\n",
      "PD    0.316296\n",
      "PR    0.305185\n",
      "CR    0.253333\n",
      "SD    0.125185\n",
      "Name: TRGRESP, dtype: float64\n"
     ]
    }
   ],
   "source": [
    "print(y_tr.value_counts()/len(y_tr)) \n",
    "print(y_ts.value_counts()/len(y_ts))"
   ]
  },
  {
   "cell_type": "markdown",
   "metadata": {
    "slideshow": {
     "slide_type": "subslide"
    }
   },
   "source": [
    "scale"
   ]
  },
  {
   "cell_type": "markdown",
   "metadata": {
    "slideshow": {
     "slide_type": "fragment"
    }
   },
   "source": [
    "```\n",
    "#not suitable for this data\n",
    "minmaxscl=MinMaxScaler((0,1))\n",
    "X_tr = minmaxscl.fit_transform(X_tr)\n",
    "X_ts = minmaxscl.fit_transform(X_ts)```"
   ]
  },
  {
   "cell_type": "code",
   "execution_count": 12,
   "metadata": {
    "slideshow": {
     "slide_type": "fragment"
    }
   },
   "outputs": [],
   "source": [
    "X_tr=normalize(X_tr,norm='l2', axis=1)\n",
    "X_ts=normalize(X_ts,norm='l2', axis=1)"
   ]
  },
  {
   "cell_type": "markdown",
   "metadata": {
    "slideshow": {
     "slide_type": "slide"
    }
   },
   "source": [
    "## 6.  train/evaluate cv results"
   ]
  },
  {
   "cell_type": "markdown",
   "metadata": {
    "slideshow": {
     "slide_type": "subslide"
    }
   },
   "source": [
    "### random forest"
   ]
  },
  {
   "cell_type": "code",
   "execution_count": 13,
   "metadata": {
    "slideshow": {
     "slide_type": "fragment"
    }
   },
   "outputs": [
    {
     "name": "stdout",
     "output_type": "stream",
     "text": [
      "Best Model\n",
      "Parameters: {'n_estimators': 1600, 'max_depth': 4, 'criterion': 'gini', 'bootstrap': True}\n",
      "       Acc: 0.9673202614379085\n",
      "Wall time: 5min 20s\n"
     ]
    }
   ],
   "source": [
    "%%time\n",
    "grid_param = {\n",
    "    'n_estimators': [400, 800, 1600]\n",
    "    , 'criterion': ['gini', 'entropy']\n",
    "    , 'bootstrap': [True, False]\n",
    "    , 'max_depth': np.arange(3,5,1)\n",
    "}\n",
    "rf = RandomizedSearchCV(estimator=RandomForestClassifier(random_state=2019)\n",
    "                     , param_distributions=grid_param\n",
    "                     , scoring='accuracy'\n",
    "                     , cv=10\n",
    "                     , n_jobs=-1)\n",
    "rf.fit(X_tr, y_tr)\n",
    "\n",
    "print('Best Model\\nParameters: {}\\n       Acc: {}'.format(rf.best_params_,rf.best_score_))"
   ]
  },
  {
   "cell_type": "markdown",
   "metadata": {
    "slideshow": {
     "slide_type": "subslide"
    }
   },
   "source": [
    "### SVC"
   ]
  },
  {
   "cell_type": "code",
   "execution_count": 14,
   "metadata": {
    "slideshow": {
     "slide_type": "fragment"
    }
   },
   "outputs": [
    {
     "name": "stdout",
     "output_type": "stream",
     "text": [
      "Best Model\n",
      "Parameters: {'C': 1.1623307440773565, 'gamma': 0.05390130102040785, 'tol': 0.0001}\n",
      "       Acc: 0.9092810457516339\n",
      "Wall time: 55.7 s\n"
     ]
    }
   ],
   "source": [
    "%%time\n",
    "grid_param = {\n",
    "    'tol': [1e-3,1e-4]\n",
    "    , 'C': stats.expon(scale=1)\n",
    "    , 'gamma':stats.expon(scale=0.01)\n",
    "\n",
    "}\n",
    "lsvc = RandomizedSearchCV(estimator=SVC()\n",
    "                  , param_distributions=grid_param\n",
    "                  , scoring='accuracy'\n",
    "                  , cv=10\n",
    "                  , n_jobs=-1)\n",
    "lsvc.fit(X_tr, y_tr)\n",
    "\n",
    "print('Best Model\\nParameters: {}\\n       Acc: {}'.format(lsvc.best_params_,lsvc.best_score_))"
   ]
  },
  {
   "cell_type": "markdown",
   "metadata": {
    "slideshow": {
     "slide_type": "subslide"
    }
   },
   "source": [
    "### logistic regression"
   ]
  },
  {
   "cell_type": "code",
   "execution_count": 15,
   "metadata": {
    "slideshow": {
     "slide_type": "fragment"
    }
   },
   "outputs": [
    {
     "name": "stdout",
     "output_type": "stream",
     "text": [
      "Best Model\n",
      "Parameters: {'C': 2.5357733337277146, 'max_iter': 600, 'solver': 'saga', 'tol': 0.0001}\n",
      "       Acc: 0.9356862745098039\n",
      "Wall time: 8.43 s\n"
     ]
    }
   ],
   "source": [
    "%%time\n",
    "grid_param = {\n",
    "    'tol': [1e-3,1e-4]\n",
    "    , 'C': stats.expon(scale=1)\n",
    "    , 'solver': ['lbfgs','saga','newton-cg']\n",
    "    , 'max_iter':[100,300,600]\n",
    "}\n",
    "lr = RandomizedSearchCV(estimator=LogisticRegression(penalty='l2',\n",
    "                                               multi_class='multinomial')\n",
    "                  , param_distributions=grid_param\n",
    "                  , scoring='accuracy'\n",
    "                  , cv=10\n",
    "                  , n_jobs=-1)\n",
    "lr.fit(X_tr, y_tr)\n",
    "\n",
    "print('Best Model\\nParameters: {}\\n       Acc: {}'.format(lr.best_params_,lr.best_score_))"
   ]
  },
  {
   "cell_type": "markdown",
   "metadata": {
    "slideshow": {
     "slide_type": "subslide"
    }
   },
   "source": [
    "### knn"
   ]
  },
  {
   "cell_type": "code",
   "execution_count": 16,
   "metadata": {
    "slideshow": {
     "slide_type": "fragment"
    }
   },
   "outputs": [
    {
     "name": "stdout",
     "output_type": "stream",
     "text": [
      "Best Model\n",
      "Parameters: {'p': 1, 'weights': 'distance'}\n",
      "       Acc: 0.9780392156862745\n",
      "Wall time: 837 ms\n"
     ]
    }
   ],
   "source": [
    "%%time\n",
    "grid_param = {\n",
    "            'weights': ['uniform','distance']\n",
    "            , 'p': [1,2]\n",
    "}\n",
    "kn = GridSearchCV(estimator=KNeighborsClassifier(n_neighbors = 4\n",
    "                                                 ,algorithm ='auto')\n",
    "                  , param_grid=grid_param\n",
    "                  , scoring='accuracy'\n",
    "                  , cv=10\n",
    "                  , n_jobs=-1)\n",
    "kn.fit(X_tr, y_tr)\n",
    "\n",
    "print('Best Model\\nParameters: {}\\n       Acc: {}'.format(kn.best_params_,kn.best_score_))"
   ]
  },
  {
   "cell_type": "markdown",
   "metadata": {
    "slideshow": {
     "slide_type": "subslide"
    }
   },
   "source": [
    "### xgboost"
   ]
  },
  {
   "cell_type": "code",
   "execution_count": 17,
   "metadata": {
    "slideshow": {
     "slide_type": "fragment"
    }
   },
   "outputs": [
    {
     "name": "stdout",
     "output_type": "stream",
     "text": [
      "Fitting 10 folds for each of 5 candidates, totalling 50 fits\n"
     ]
    },
    {
     "name": "stderr",
     "output_type": "stream",
     "text": [
      "[Parallel(n_jobs=4)]: Using backend LokyBackend with 4 concurrent workers.\n",
      "[Parallel(n_jobs=4)]: Done  24 tasks      | elapsed:  6.2min\n",
      "[Parallel(n_jobs=4)]: Done  50 out of  50 | elapsed:  9.9min finished\n"
     ]
    },
    {
     "name": "stdout",
     "output_type": "stream",
     "text": [
      "Best Model\n",
      "Parameters: {'subsample': 0.6, 'n_estimators': 2000, 'min_child_weight': 5, 'max_depth': 5, 'learning_rate': 0.01, 'lambda': 3, 'gamma': 1, 'colsample_bytree': 1.0}\n",
      "       Acc: 0.9854901960784314\n",
      "Wall time: 10min 21s\n"
     ]
    }
   ],
   "source": [
    "%%time\n",
    "grid_param = {\n",
    "        'min_child_weight': [1, 5, 10]\n",
    "        ,'gamma': [0.5, 1, 1.5, 2, 5]\n",
    "        ,'subsample': [0.6, 0.8, 1.0]\n",
    "        ,'colsample_bytree': [0.6, 0.8, 1.0]\n",
    "        ,'max_depth': [2, 3, 4, 5]\n",
    "        ,'learning_rate': [0.01,0.1]\n",
    "        ,'n_estimators': [1000, 2000]\n",
    "        ,'lambda':[3,4]\n",
    "        }\n",
    "\n",
    "skf = StratifiedKFold(n_splits=10, shuffle=True, random_state=2019)\n",
    "xg = RandomizedSearchCV(XGBClassifier(objective='multi:softprob'\n",
    "                                        , silent=True\n",
    "                                        , nthread=6)\n",
    "                                      , param_distributions=grid_param\n",
    "                                      , n_iter=5\n",
    "                                      , scoring='accuracy'\n",
    "                                      , n_jobs=4\n",
    "                                      , cv=skf.split(X_tr,y_tr)\n",
    "                                      , verbose=3\n",
    "                                      , random_state=2019)\n",
    "\n",
    "xg.fit(X_tr, y_tr)\n",
    "\n",
    "print('Best Model\\nParameters: {}\\n       Acc: {}'.format(xg.best_params_,xg.best_score_))"
   ]
  },
  {
   "cell_type": "code",
   "execution_count": 18,
   "metadata": {
    "slideshow": {
     "slide_type": "subslide"
    }
   },
   "outputs": [
    {
     "name": "stdout",
     "output_type": "stream",
     "text": [
      "Wall time: 5min 42s\n"
     ]
    }
   ],
   "source": [
    "%%time\n",
    "models = [rf.best_estimator_\n",
    "          , lsvc.best_estimator_\n",
    "          , lr.best_estimator_\n",
    "          , kn.best_estimator_\n",
    "          , xg.best_estimator_\n",
    "]\n",
    "\n",
    "\n",
    "entries = []\n",
    "for model in models:\n",
    "    model_name = model.__class__.__name__\n",
    "    accuracies = cross_val_score(model, X_tr, y_tr, scoring='accuracy', cv=10)\n",
    "    for idx, accuracy in enumerate(accuracies):\n",
    "        entries.append((model_name, idx, accuracy))\n",
    "cv_df = pd.DataFrame(entries, columns=['model name', 'idx', 'accuracy'])"
   ]
  },
  {
   "cell_type": "code",
   "execution_count": 19,
   "metadata": {
    "slideshow": {
     "slide_type": "subslide"
    }
   },
   "outputs": [
    {
     "data": {
      "image/png": "[encoded data removed]",
      "text/plain": [
       "<Figure size 842.4x595.44 with 1 Axes>"
      ]
     },
     "metadata": {
      "needs_background": "light"
     },
     "output_type": "display_data"
    }
   ],
   "source": [
    "myutil.plot_model_performance(cv_df, t='cv')"
   ]
  },
  {
   "cell_type": "markdown",
   "metadata": {
    "slideshow": {
     "slide_type": "slide"
    }
   },
   "source": [
    "## 7. test"
   ]
  },
  {
   "cell_type": "code",
   "execution_count": 20,
   "metadata": {
    "slideshow": {
     "slide_type": "fragment"
    }
   },
   "outputs": [],
   "source": [
    "entries = []\n",
    "for model in models:\n",
    "    model_name = model.__class__.__name__\n",
    "    clf=model.fit(X_tr,y_tr)\n",
    "    y_pred=clf.predict(X_ts)\n",
    "    acc=accuracy_score(y_ts, y_pred)\n",
    "    entries.append((model_name, acc))\n",
    "test_df = pd.DataFrame(entries, columns=['model name', 'accuracy'])"
   ]
  },
  {
   "cell_type": "code",
   "execution_count": 21,
   "metadata": {
    "slideshow": {
     "slide_type": "fragment"
    }
   },
   "outputs": [
    {
     "data": {
      "text/html": [
       "<div>\n",
       "<style scoped>\n",
       "    .dataframe tbody tr th:only-of-type {\n",
       "        vertical-align: middle;\n",
       "    }\n",
       "\n",
       "    .dataframe tbody tr th {\n",
       "        vertical-align: top;\n",
       "    }\n",
       "\n",
       "    .dataframe thead th {\n",
       "        text-align: right;\n",
       "    }\n",
       "</style>\n",
       "<table border=\"1\" class=\"dataframe\">\n",
       "  <thead>\n",
       "    <tr style=\"text-align: right;\">\n",
       "      <th></th>\n",
       "      <th>model name</th>\n",
       "      <th>accuracy</th>\n",
       "    </tr>\n",
       "  </thead>\n",
       "  <tbody>\n",
       "    <tr>\n",
       "      <th>0</th>\n",
       "      <td>RandomForestClassifier</td>\n",
       "      <td>0.962963</td>\n",
       "    </tr>\n",
       "    <tr>\n",
       "      <th>1</th>\n",
       "      <td>SVC</td>\n",
       "      <td>0.897037</td>\n",
       "    </tr>\n",
       "    <tr>\n",
       "      <th>2</th>\n",
       "      <td>LogisticRegression</td>\n",
       "      <td>0.920741</td>\n",
       "    </tr>\n",
       "    <tr>\n",
       "      <th>3</th>\n",
       "      <td>KNeighborsClassifier</td>\n",
       "      <td>0.977037</td>\n",
       "    </tr>\n",
       "    <tr>\n",
       "      <th>4</th>\n",
       "      <td>XGBClassifier</td>\n",
       "      <td>0.987407</td>\n",
       "    </tr>\n",
       "  </tbody>\n",
       "</table>\n",
       "</div>"
      ],
      "text/plain": [
       "               model name  accuracy\n",
       "0  RandomForestClassifier  0.962963\n",
       "1                     SVC  0.897037\n",
       "2      LogisticRegression  0.920741\n",
       "3    KNeighborsClassifier  0.977037\n",
       "4           XGBClassifier  0.987407"
      ]
     },
     "execution_count": 21,
     "metadata": {},
     "output_type": "execute_result"
    }
   ],
   "source": [
    "test_df"
   ]
  },
  {
   "cell_type": "code",
   "execution_count": 22,
   "metadata": {
    "slideshow": {
     "slide_type": "subslide"
    }
   },
   "outputs": [
    {
     "data": {
      "image/png": "[encoded data removed]",
      "text/plain": [
       "<Figure size 842.4x595.44 with 1 Axes>"
      ]
     },
     "metadata": {},
     "output_type": "display_data"
    }
   ],
   "source": [
    "myutil.plot_model_performance(test_df, 'test set')"
   ]
  },
  {
   "cell_type": "markdown",
   "metadata": {
    "slideshow": {
     "slide_type": "slide"
    }
   },
   "source": [
    "## Summary\n",
    "\n",
    "The best model was the gradient boosting with accuracy of 98.7%. Took 10 min with 4 parallel threds and random sampling of hyperparameters."
   ]
  },
  {
   "cell_type": "code",
   "execution_count": null,
   "metadata": {},
   "outputs": [],
   "source": []
  }
 ],
 "metadata": {
  "celltoolbar": "Slideshow",
  "kernelspec": {
   "display_name": "Python 3",
   "language": "python",
   "name": "python3"
  },
  "language_info": {
   "codemirror_mode": {
    "name": "ipython",
    "version": 3
   },
   "file_extension": ".py",
   "mimetype": "text/x-python",
   "name": "python",
   "nbconvert_exporter": "python",
   "pygments_lexer": "ipython3",
   "version": "3.7.3"
  }
 },
 "nbformat": 4,
 "nbformat_minor": 2
}
