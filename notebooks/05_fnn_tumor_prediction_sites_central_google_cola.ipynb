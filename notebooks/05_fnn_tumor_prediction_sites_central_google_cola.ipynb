{
 "cells": [
  {
   "cell_type": "markdown",
   "metadata": {
    "colab_type": "text",
    "id": "view-in-github"
   },
   "source": [
    "<a href=\"https://colab.research.google.com/github/stomioka/phuse-tumor-ml/blob/master/05_fnn_tumor_prediction_sites_central_google_cola.ipynb\" target=\"_parent\"><img src=\"https://colab.research.google.com/assets/colab-badge.svg\" alt=\"Open In Colab\"/></a>"
   ]
  },
  {
   "cell_type": "markdown",
   "metadata": {
    "colab_type": "text",
    "id": "eNny0V6f0qdU"
   },
   "source": [
    "# Response criteria prediction for tumor with neural networks\n",
    "\n",
    "Sam Tomioka<br>\n",
    "2019-10-13\n",
    "\n",
    "Same data used in [notebook3](03-tumor_prediction-sites-central.ipynb) will be used here. \n",
    "\n",
    "- Model based on `central`+`site` with 85% of data from each. Test on remaining `central` assessments, Test on remaining `site` assessments independently."
   ]
  },
  {
   "cell_type": "code",
   "execution_count": 0,
   "metadata": {
    "colab": {
     "base_uri": "https://localhost:8080/",
     "height": 442
    },
    "colab_type": "code",
    "id": "vvowRGjB0qdX",
    "outputId": "c2faca79-ecbe-4140-898f-f90c6e3c7dfa"
   },
   "outputs": [
    {
     "name": "stdout",
     "output_type": "stream",
     "text": [
      "Cloning into 'phuse-tumor-ml'...\n",
      "remote: Enumerating objects: 98, done.\u001b[K\n",
      "remote: Counting objects: 100% (98/98), done.\u001b[K\n",
      "remote: Compressing objects: 100% (78/78), done.\u001b[K\n",
      "remote: Total 98 (delta 44), reused 70 (delta 17), pack-reused 0\u001b[K\n",
      "Unpacking objects: 100% (98/98), done.\n",
      "Collecting git+git://github.com/andirs/impyte.git\n",
      "  Cloning git://github.com/andirs/impyte.git to /tmp/pip-req-build-g4ctgx0e\n",
      "  Running command git clone -q git://github.com/andirs/impyte.git /tmp/pip-req-build-g4ctgx0e\n",
      "Requirement already satisfied: scikit-learn in /usr/local/lib/python3.6/dist-packages (from impyte==0.1.0) (0.21.3)\n",
      "Requirement already satisfied: pandas in /usr/local/lib/python3.6/dist-packages (from impyte==0.1.0) (0.24.2)\n",
      "Requirement already satisfied: numpy in /usr/local/lib/python3.6/dist-packages (from impyte==0.1.0) (1.16.5)\n",
      "Requirement already satisfied: scipy in /usr/local/lib/python3.6/dist-packages (from impyte==0.1.0) (1.3.1)\n",
      "Requirement already satisfied: pathlib in /usr/local/lib/python3.6/dist-packages (from impyte==0.1.0) (1.0.1)\n",
      "Requirement already satisfied: joblib>=0.11 in /usr/local/lib/python3.6/dist-packages (from scikit-learn->impyte==0.1.0) (0.14.0)\n",
      "Requirement already satisfied: python-dateutil>=2.5.0 in /usr/local/lib/python3.6/dist-packages (from pandas->impyte==0.1.0) (2.5.3)\n",
      "Requirement already satisfied: pytz>=2011k in /usr/local/lib/python3.6/dist-packages (from pandas->impyte==0.1.0) (2018.9)\n",
      "Requirement already satisfied: six>=1.5 in /usr/local/lib/python3.6/dist-packages (from python-dateutil>=2.5.0->pandas->impyte==0.1.0) (1.12.0)\n",
      "Building wheels for collected packages: impyte\n",
      "  Building wheel for impyte (setup.py) ... \u001b[?25l\u001b[?25hdone\n",
      "  Created wheel for impyte: filename=impyte-0.1.0-cp36-none-any.whl size=21388 sha256=2cb3c0b81b2db9b6a7d6a47bb8e3fc211e3adf9aaa124a81ff409b793f319958\n",
      "  Stored in directory: /tmp/pip-ephem-wheel-cache-ytfl4mo2/wheels/65/16/30/1a24d053bf050146af36c12fdca5e3f2362d892226909931e4\n",
      "Successfully built impyte\n",
      "Installing collected packages: impyte\n",
      "Successfully installed impyte-0.1.0\n"
     ]
    }
   ],
   "source": [
    "#!pip install git+git://github.com/andirs/impyte.git\n",
    "#!pip install xgboost \n",
    "\n",
    "!git clone https://github.com/stomioka/phuse-tumor-ml.git\n",
    "!pip install git+git://github.com/andirs/impyte.git\n",
    "!mv phuse-tumor-ml phuse_tumor_ml"
   ]
  },
  {
   "cell_type": "code",
   "execution_count": 0,
   "metadata": {
    "colab": {
     "base_uri": "https://localhost:8080/",
     "height": 105
    },
    "colab_type": "code",
    "id": "sFHjN5wH0qdb",
    "outputId": "b14d8423-e810-4e70-f642-47dac2d481f9"
   },
   "outputs": [
    {
     "name": "stderr",
     "output_type": "stream",
     "text": [
      "/usr/local/lib/python3.6/dist-packages/sklearn/externals/joblib/__init__.py:15: DeprecationWarning: sklearn.externals.joblib is deprecated in 0.21 and will be removed in 0.23. Please import this functionality directly from joblib, which can be installed with: pip install joblib. If this warning is raised when loading pickled models, you may need to re-serialize those models with scikit-learn 0.21+.\n",
      "  warnings.warn(msg, category=DeprecationWarning)\n"
     ]
    },
    {
     "name": "stdout",
     "output_type": "stream",
     "text": [
      "tensorflow version: 1.15.0-rc3\n",
      "sklearn version: 0.21.3\n"
     ]
    }
   ],
   "source": [
    "import os\n",
    "os.chdir('phuse_tumor_ml/notebooks')\n",
    "from lib.myutil import *\n",
    "import tensorflow as tf\n",
    "from tensorflow.keras.layers import *\n",
    "from tensorflow.keras import *\n",
    "from tensorflow.keras.preprocessing.text import Tokenizer\n",
    "from tensorflow.train import *\n",
    "print('tensorflow version: {}'.format(tf.__version__))\n",
    "\n",
    "import sklearn\n",
    "from sklearn.metrics import accuracy_score,roc_curve, auc\n",
    "print('sklearn version: {}'.format(sklearn.__version__))\n",
    "import matplotlib.pyplot as plt\n",
    "%matplotlib inline\n",
    "\n",
    "tf.enable_eager_execution()\n",
    "\n",
    "#tf.keras.backend.clear_session() "
   ]
  },
  {
   "cell_type": "code",
   "execution_count": 0,
   "metadata": {
    "colab": {},
    "colab_type": "code",
    "id": "bW6oQ5SN0qdj"
   },
   "outputs": [],
   "source": [
    "central, site=load_data()\n",
    "\n",
    "tr_x, tr_y, ts_x, ts_y, ts_x2, ts_y2 = generate_tr_ts(df1=central, df2=site, m=3, method=None, h=3000, seed=2019)"
   ]
  },
  {
   "cell_type": "code",
   "execution_count": 0,
   "metadata": {
    "colab": {},
    "colab_type": "code",
    "id": "hzaj0m-n0qdo"
   },
   "outputs": [],
   "source": [
    "from sklearn.preprocessing import LabelBinarizer\n",
    "encoder = LabelBinarizer()\n",
    "tr_y = encoder.fit_transform(tr_y)\n",
    "ts_y = encoder.fit_transform(ts_y)\n",
    "ts_y2 = encoder.fit_transform(ts_y2)"
   ]
  },
  {
   "cell_type": "code",
   "execution_count": 0,
   "metadata": {
    "colab": {
     "base_uri": "https://localhost:8080/",
     "height": 34
    },
    "colab_type": "code",
    "id": "7xnzgFYj0qd0",
    "outputId": "2105fb9b-df68-4d01-9a20-0182dbaa7528"
   },
   "outputs": [
    {
     "data": {
      "text/plain": [
       "((1373, 7), (1373, 5))"
      ]
     },
     "execution_count": 5,
     "metadata": {
      "tags": []
     },
     "output_type": "execute_result"
    }
   ],
   "source": [
    "tr_x.shape, tr_y.shape"
   ]
  },
  {
   "cell_type": "code",
   "execution_count": 0,
   "metadata": {
    "colab": {
     "base_uri": "https://localhost:8080/",
     "height": 357
    },
    "colab_type": "code",
    "id": "WnTEmXDl0qd4",
    "outputId": "14fd53b6-0d62-4a22-a7c8-37fb80d83749"
   },
   "outputs": [
    {
     "name": "stdout",
     "output_type": "stream",
     "text": [
      "Model: \"model\"\n",
      "_________________________________________________________________\n",
      "Layer (type)                 Output Shape              Param #   \n",
      "=================================================================\n",
      "recest (InputLayer)          [(None, 7)]               0         \n",
      "_________________________________________________________________\n",
      "dense_1 (Dense)              (None, 64)                512       \n",
      "_________________________________________________________________\n",
      "dense_2 (Dense)              (None, 32)                2080      \n",
      "_________________________________________________________________\n",
      "dense_3 (Dense)              (None, 32)                1056      \n",
      "_________________________________________________________________\n",
      "dense_4 (Dense)              (None, 16)                528       \n",
      "_________________________________________________________________\n",
      "pred (Dense)                 (None, 5)                 85        \n",
      "=================================================================\n",
      "Total params: 4,261\n",
      "Trainable params: 4,261\n",
      "Non-trainable params: 0\n",
      "_________________________________________________________________\n"
     ]
    }
   ],
   "source": [
    "tf.keras.backend.clear_session() \n",
    "i = Input(shape=(7,),name='recest')\n",
    "x = Dense(64, activation='relu', name='dense_1')(i)\n",
    "x = Dense(32, activation='relu', name='dense_2')(x)\n",
    "x = Dense(32, activation='relu', name='dense_3')(x)\n",
    "x = Dense(16, activation='relu', name='dense_4')(x)\n",
    "outputs = Dense(5, activation='softmax', name='pred')(x)\n",
    "\n",
    "model = Model(i, outputs)\n",
    "opt = AdamOptimizer(learning_rate=0.001)\n",
    "model.compile(loss='categorical_crossentropy',optimizer=opt,metrics=['accuracy'])\n",
    "model.summary()"
   ]
  },
  {
   "cell_type": "code",
   "execution_count": 0,
   "metadata": {
    "colab": {
     "base_uri": "https://localhost:8080/",
     "height": 1000
    },
    "colab_type": "code",
    "id": "SUsrNxCS0qd8",
    "outputId": "0f421917-031d-4029-823f-af09fe6e3e30",
    "scrolled": true
   },
   "outputs": [
    {
     "name": "stdout",
     "output_type": "stream",
     "text": [
      "WARNING:tensorflow:From /usr/local/lib/python3.6/dist-packages/tensorflow_core/python/ops/math_grad.py:1424: where (from tensorflow.python.ops.array_ops) is deprecated and will be removed in a future version.\n",
      "Instructions for updating:\n",
      "Use tf.where in 2.0, which has the same broadcast rule as np.where\n",
      "Train on 1098 samples, validate on 275 samples\n",
      "Epoch 1/200\n",
      "1098/1098 [==============================] - 1s 841us/sample - loss: 1.3851 - acc: 0.3634 - val_loss: 1.0901 - val_acc: 0.5527\n",
      "Epoch 2/200\n",
      "1098/1098 [==============================] - 0s 139us/sample - loss: 0.8675 - acc: 0.6366 - val_loss: 0.7152 - val_acc: 0.7382\n",
      "Epoch 3/200\n",
      "1098/1098 [==============================] - 0s 137us/sample - loss: 0.6480 - acc: 0.7623 - val_loss: 0.6376 - val_acc: 0.7709\n",
      "Epoch 4/200\n",
      "1098/1098 [==============================] - 0s 162us/sample - loss: 0.5867 - acc: 0.7741 - val_loss: 0.5865 - val_acc: 0.7673\n",
      "Epoch 5/200\n",
      "1098/1098 [==============================] - 0s 218us/sample - loss: 0.5462 - acc: 0.7914 - val_loss: 0.5943 - val_acc: 0.7564\n",
      "Epoch 6/200\n",
      "1098/1098 [==============================] - 0s 271us/sample - loss: 0.5203 - acc: 0.7969 - val_loss: 0.5186 - val_acc: 0.7964\n",
      "Epoch 7/200\n",
      "1098/1098 [==============================] - 0s 232us/sample - loss: 0.4857 - acc: 0.8251 - val_loss: 0.4759 - val_acc: 0.8255\n",
      "Epoch 8/200\n",
      "1098/1098 [==============================] - 0s 214us/sample - loss: 0.4457 - acc: 0.8370 - val_loss: 0.4682 - val_acc: 0.8109\n",
      "Epoch 9/200\n",
      "1098/1098 [==============================] - 0s 215us/sample - loss: 0.4171 - acc: 0.8515 - val_loss: 0.4190 - val_acc: 0.8400\n",
      "Epoch 10/200\n",
      "1098/1098 [==============================] - 0s 228us/sample - loss: 0.3952 - acc: 0.8634 - val_loss: 0.3789 - val_acc: 0.8509\n",
      "Epoch 11/200\n",
      "1098/1098 [==============================] - 0s 235us/sample - loss: 0.3643 - acc: 0.8716 - val_loss: 0.3551 - val_acc: 0.8655\n",
      "Epoch 12/200\n",
      "1098/1098 [==============================] - 0s 201us/sample - loss: 0.3425 - acc: 0.8907 - val_loss: 0.3687 - val_acc: 0.8655\n",
      "Epoch 13/200\n",
      "1098/1098 [==============================] - 0s 241us/sample - loss: 0.3368 - acc: 0.8825 - val_loss: 0.3367 - val_acc: 0.8473\n",
      "Epoch 14/200\n",
      "1098/1098 [==============================] - 0s 229us/sample - loss: 0.3240 - acc: 0.8816 - val_loss: 0.3109 - val_acc: 0.8727\n",
      "Epoch 15/200\n",
      "1098/1098 [==============================] - 0s 235us/sample - loss: 0.3222 - acc: 0.8816 - val_loss: 0.3003 - val_acc: 0.8909\n",
      "Epoch 16/200\n",
      "1098/1098 [==============================] - 0s 211us/sample - loss: 0.2969 - acc: 0.8980 - val_loss: 0.4290 - val_acc: 0.8218\n",
      "Epoch 17/200\n",
      "1098/1098 [==============================] - 0s 218us/sample - loss: 0.3204 - acc: 0.8871 - val_loss: 0.3110 - val_acc: 0.8764\n",
      "Epoch 18/200\n",
      "1098/1098 [==============================] - 0s 229us/sample - loss: 0.2968 - acc: 0.8916 - val_loss: 0.3280 - val_acc: 0.8545\n",
      "Epoch 19/200\n",
      "1098/1098 [==============================] - 0s 245us/sample - loss: 0.2962 - acc: 0.9026 - val_loss: 0.3095 - val_acc: 0.8800\n",
      "Epoch 20/200\n",
      "1098/1098 [==============================] - 0s 251us/sample - loss: 0.2850 - acc: 0.8998 - val_loss: 0.2740 - val_acc: 0.9055\n",
      "Epoch 21/200\n",
      "1098/1098 [==============================] - 0s 236us/sample - loss: 0.2854 - acc: 0.8953 - val_loss: 0.2636 - val_acc: 0.9164\n",
      "Epoch 22/200\n",
      "1098/1098 [==============================] - 0s 249us/sample - loss: 0.2732 - acc: 0.9016 - val_loss: 0.2666 - val_acc: 0.8982\n",
      "Epoch 23/200\n",
      "1098/1098 [==============================] - 0s 212us/sample - loss: 0.2684 - acc: 0.9044 - val_loss: 0.2712 - val_acc: 0.8982\n",
      "Epoch 24/200\n",
      "1098/1098 [==============================] - 0s 200us/sample - loss: 0.2688 - acc: 0.9053 - val_loss: 0.2683 - val_acc: 0.9018\n",
      "Epoch 25/200\n",
      "1098/1098 [==============================] - 0s 239us/sample - loss: 0.2590 - acc: 0.9162 - val_loss: 0.2479 - val_acc: 0.9127\n",
      "Epoch 26/200\n",
      "1098/1098 [==============================] - 0s 222us/sample - loss: 0.2628 - acc: 0.9053 - val_loss: 0.2377 - val_acc: 0.9127\n",
      "Epoch 27/200\n",
      "1098/1098 [==============================] - 0s 210us/sample - loss: 0.2574 - acc: 0.9117 - val_loss: 0.2797 - val_acc: 0.8764\n",
      "Epoch 28/200\n",
      "1098/1098 [==============================] - 0s 210us/sample - loss: 0.2545 - acc: 0.9089 - val_loss: 0.2592 - val_acc: 0.9127\n",
      "Epoch 29/200\n",
      "1098/1098 [==============================] - 0s 191us/sample - loss: 0.2516 - acc: 0.9126 - val_loss: 0.2733 - val_acc: 0.8800\n",
      "Epoch 30/200\n",
      "1098/1098 [==============================] - 0s 206us/sample - loss: 0.2507 - acc: 0.9062 - val_loss: 0.2442 - val_acc: 0.9018\n",
      "Epoch 31/200\n",
      "1098/1098 [==============================] - 0s 212us/sample - loss: 0.2539 - acc: 0.9071 - val_loss: 0.2452 - val_acc: 0.9018\n",
      "Epoch 32/200\n",
      "1098/1098 [==============================] - 0s 193us/sample - loss: 0.2473 - acc: 0.9135 - val_loss: 0.2441 - val_acc: 0.9127\n",
      "Epoch 33/200\n",
      "1098/1098 [==============================] - 0s 200us/sample - loss: 0.2613 - acc: 0.9016 - val_loss: 0.2399 - val_acc: 0.9018\n",
      "Epoch 34/200\n",
      "1098/1098 [==============================] - 0s 237us/sample - loss: 0.2406 - acc: 0.9162 - val_loss: 0.2269 - val_acc: 0.9164\n",
      "Epoch 35/200\n",
      "1098/1098 [==============================] - 0s 225us/sample - loss: 0.2400 - acc: 0.9135 - val_loss: 0.2193 - val_acc: 0.9164\n",
      "Epoch 36/200\n",
      "1098/1098 [==============================] - 0s 232us/sample - loss: 0.2447 - acc: 0.9098 - val_loss: 0.2336 - val_acc: 0.9200\n",
      "Epoch 37/200\n",
      "1098/1098 [==============================] - 0s 226us/sample - loss: 0.2318 - acc: 0.9153 - val_loss: 0.2240 - val_acc: 0.9236\n",
      "Epoch 38/200\n",
      "1098/1098 [==============================] - 0s 212us/sample - loss: 0.2385 - acc: 0.9089 - val_loss: 0.2540 - val_acc: 0.8873\n",
      "Epoch 39/200\n",
      "1098/1098 [==============================] - 0s 239us/sample - loss: 0.2428 - acc: 0.9080 - val_loss: 0.2405 - val_acc: 0.9055\n",
      "Epoch 40/200\n",
      "1098/1098 [==============================] - 0s 236us/sample - loss: 0.2310 - acc: 0.9126 - val_loss: 0.2296 - val_acc: 0.9091\n",
      "Epoch 41/200\n",
      "1098/1098 [==============================] - 0s 213us/sample - loss: 0.2248 - acc: 0.9217 - val_loss: 0.2245 - val_acc: 0.9127\n",
      "Epoch 42/200\n",
      "1098/1098 [==============================] - 0s 234us/sample - loss: 0.2239 - acc: 0.9162 - val_loss: 0.2218 - val_acc: 0.9200\n",
      "Epoch 43/200\n",
      "1098/1098 [==============================] - 0s 227us/sample - loss: 0.2294 - acc: 0.9117 - val_loss: 0.2661 - val_acc: 0.8836\n",
      "Epoch 44/200\n",
      "1098/1098 [==============================] - 0s 214us/sample - loss: 0.2321 - acc: 0.9117 - val_loss: 0.2229 - val_acc: 0.9164\n",
      "Epoch 45/200\n",
      "1098/1098 [==============================] - 0s 133us/sample - loss: 0.2204 - acc: 0.9153 - val_loss: 0.2140 - val_acc: 0.9200\n",
      "Epoch 46/200\n",
      "1098/1098 [==============================] - 0s 146us/sample - loss: 0.2295 - acc: 0.9144 - val_loss: 0.2172 - val_acc: 0.9164\n",
      "Epoch 47/200\n",
      "1098/1098 [==============================] - 0s 149us/sample - loss: 0.2198 - acc: 0.9208 - val_loss: 0.2422 - val_acc: 0.9018\n",
      "Epoch 48/200\n",
      "1098/1098 [==============================] - 0s 134us/sample - loss: 0.2349 - acc: 0.9053 - val_loss: 0.2775 - val_acc: 0.8945\n",
      "Epoch 49/200\n",
      "1098/1098 [==============================] - 0s 134us/sample - loss: 0.2230 - acc: 0.9208 - val_loss: 0.2226 - val_acc: 0.9164\n",
      "Epoch 50/200\n",
      "1098/1098 [==============================] - 0s 165us/sample - loss: 0.2086 - acc: 0.9217 - val_loss: 0.2200 - val_acc: 0.9127\n",
      "Epoch 51/200\n",
      "1098/1098 [==============================] - 0s 228us/sample - loss: 0.2201 - acc: 0.9144 - val_loss: 0.2127 - val_acc: 0.9164\n",
      "Epoch 52/200\n",
      "1098/1098 [==============================] - 0s 237us/sample - loss: 0.2075 - acc: 0.9253 - val_loss: 0.2263 - val_acc: 0.9200\n",
      "Epoch 53/200\n",
      "1098/1098 [==============================] - 0s 249us/sample - loss: 0.2232 - acc: 0.9144 - val_loss: 0.2473 - val_acc: 0.8982\n",
      "Epoch 54/200\n",
      "1098/1098 [==============================] - 0s 205us/sample - loss: 0.2301 - acc: 0.9153 - val_loss: 0.2371 - val_acc: 0.9127\n",
      "Epoch 55/200\n",
      "1098/1098 [==============================] - 0s 242us/sample - loss: 0.2169 - acc: 0.9144 - val_loss: 0.2327 - val_acc: 0.9200\n",
      "Epoch 56/200\n",
      "1098/1098 [==============================] - 0s 233us/sample - loss: 0.2251 - acc: 0.9153 - val_loss: 0.2206 - val_acc: 0.9200\n",
      "Epoch 57/200\n",
      "1098/1098 [==============================] - 0s 246us/sample - loss: 0.2039 - acc: 0.9226 - val_loss: 0.2208 - val_acc: 0.9127\n",
      "Epoch 58/200\n",
      "1098/1098 [==============================] - 0s 239us/sample - loss: 0.2078 - acc: 0.9208 - val_loss: 0.2151 - val_acc: 0.9055\n",
      "Epoch 59/200\n",
      "1098/1098 [==============================] - 0s 225us/sample - loss: 0.2127 - acc: 0.9153 - val_loss: 0.2119 - val_acc: 0.9200\n",
      "Epoch 60/200\n",
      "1098/1098 [==============================] - 0s 251us/sample - loss: 0.1979 - acc: 0.9253 - val_loss: 0.2318 - val_acc: 0.9018\n",
      "Epoch 61/200\n",
      "1098/1098 [==============================] - 0s 244us/sample - loss: 0.2014 - acc: 0.9199 - val_loss: 0.2114 - val_acc: 0.9127\n",
      "Epoch 62/200\n",
      "1098/1098 [==============================] - 0s 227us/sample - loss: 0.2130 - acc: 0.9208 - val_loss: 0.2475 - val_acc: 0.9018\n",
      "Epoch 63/200\n",
      "1098/1098 [==============================] - 0s 213us/sample - loss: 0.2055 - acc: 0.9226 - val_loss: 0.2111 - val_acc: 0.9200\n",
      "Epoch 64/200\n",
      "1098/1098 [==============================] - 0s 233us/sample - loss: 0.1971 - acc: 0.9226 - val_loss: 0.2332 - val_acc: 0.9091\n",
      "Epoch 65/200\n",
      "1098/1098 [==============================] - 0s 240us/sample - loss: 0.2031 - acc: 0.9208 - val_loss: 0.2234 - val_acc: 0.9164\n",
      "Epoch 66/200\n",
      "1098/1098 [==============================] - 0s 240us/sample - loss: 0.1980 - acc: 0.9244 - val_loss: 0.2288 - val_acc: 0.8982\n",
      "Epoch 67/200\n",
      "1098/1098 [==============================] - 0s 226us/sample - loss: 0.2007 - acc: 0.9235 - val_loss: 0.2124 - val_acc: 0.9091\n",
      "Epoch 68/200\n",
      "1098/1098 [==============================] - 0s 216us/sample - loss: 0.2072 - acc: 0.9217 - val_loss: 0.2367 - val_acc: 0.9127\n",
      "Epoch 69/200\n",
      "1098/1098 [==============================] - 0s 224us/sample - loss: 0.2310 - acc: 0.9117 - val_loss: 0.2273 - val_acc: 0.9055\n",
      "Epoch 70/200\n",
      "1098/1098 [==============================] - 0s 239us/sample - loss: 0.1998 - acc: 0.9271 - val_loss: 0.2246 - val_acc: 0.9091\n",
      "Epoch 71/200\n",
      "1098/1098 [==============================] - 0s 228us/sample - loss: 0.1994 - acc: 0.9208 - val_loss: 0.2360 - val_acc: 0.9164\n",
      "Epoch 72/200\n",
      "1098/1098 [==============================] - 0s 208us/sample - loss: 0.1970 - acc: 0.9299 - val_loss: 0.2278 - val_acc: 0.9127\n",
      "Epoch 73/200\n",
      "1098/1098 [==============================] - 0s 223us/sample - loss: 0.2166 - acc: 0.9180 - val_loss: 0.2397 - val_acc: 0.9091\n",
      "Epoch 74/200\n",
      "1098/1098 [==============================] - 0s 239us/sample - loss: 0.1993 - acc: 0.9262 - val_loss: 0.2442 - val_acc: 0.9127\n",
      "Epoch 75/200\n",
      "1098/1098 [==============================] - 0s 223us/sample - loss: 0.2036 - acc: 0.9226 - val_loss: 0.3250 - val_acc: 0.8800\n",
      "Epoch 76/200\n",
      "1098/1098 [==============================] - 0s 225us/sample - loss: 0.2016 - acc: 0.9171 - val_loss: 0.2157 - val_acc: 0.9164\n",
      "Epoch 77/200\n",
      "1098/1098 [==============================] - 0s 237us/sample - loss: 0.1875 - acc: 0.9335 - val_loss: 0.2140 - val_acc: 0.9055\n",
      "Epoch 78/200\n",
      "1098/1098 [==============================] - 0s 215us/sample - loss: 0.1899 - acc: 0.9262 - val_loss: 0.2289 - val_acc: 0.9127\n",
      "Epoch 79/200\n",
      "1098/1098 [==============================] - 0s 231us/sample - loss: 0.2122 - acc: 0.9171 - val_loss: 0.2498 - val_acc: 0.9055\n",
      "Epoch 80/200\n",
      "1098/1098 [==============================] - 0s 226us/sample - loss: 0.1940 - acc: 0.9317 - val_loss: 0.2257 - val_acc: 0.9236\n",
      "Epoch 81/200\n",
      "1098/1098 [==============================] - 0s 246us/sample - loss: 0.1962 - acc: 0.9235 - val_loss: 0.2484 - val_acc: 0.8982\n",
      "Epoch 82/200\n",
      "1098/1098 [==============================] - 0s 235us/sample - loss: 0.2019 - acc: 0.9271 - val_loss: 0.2271 - val_acc: 0.9091\n",
      "Epoch 83/200\n",
      "1098/1098 [==============================] - 0s 210us/sample - loss: 0.1945 - acc: 0.9308 - val_loss: 0.2089 - val_acc: 0.9164\n",
      "Epoch 84/200\n",
      "1098/1098 [==============================] - 0s 226us/sample - loss: 0.1888 - acc: 0.9262 - val_loss: 0.2160 - val_acc: 0.9164\n",
      "Epoch 85/200\n",
      "1098/1098 [==============================] - 0s 211us/sample - loss: 0.1913 - acc: 0.9199 - val_loss: 0.2261 - val_acc: 0.9055\n",
      "Epoch 86/200\n",
      "1098/1098 [==============================] - 0s 244us/sample - loss: 0.1943 - acc: 0.9217 - val_loss: 0.2771 - val_acc: 0.8909\n",
      "Epoch 87/200\n",
      "1098/1098 [==============================] - 0s 208us/sample - loss: 0.1996 - acc: 0.9235 - val_loss: 0.2553 - val_acc: 0.9091\n",
      "Epoch 88/200\n",
      "1098/1098 [==============================] - 0s 226us/sample - loss: 0.1994 - acc: 0.9180 - val_loss: 0.2401 - val_acc: 0.9164\n",
      "Epoch 89/200\n",
      "1098/1098 [==============================] - 0s 238us/sample - loss: 0.2258 - acc: 0.9171 - val_loss: 0.2317 - val_acc: 0.9018\n",
      "Epoch 90/200\n",
      "1098/1098 [==============================] - 0s 228us/sample - loss: 0.1848 - acc: 0.9281 - val_loss: 0.2460 - val_acc: 0.8982\n",
      "Epoch 91/200\n",
      "1098/1098 [==============================] - 0s 232us/sample - loss: 0.1931 - acc: 0.9253 - val_loss: 0.2074 - val_acc: 0.9236\n",
      "Epoch 92/200\n",
      "1098/1098 [==============================] - 0s 234us/sample - loss: 0.1831 - acc: 0.9290 - val_loss: 0.2198 - val_acc: 0.9273\n",
      "Epoch 93/200\n",
      "1098/1098 [==============================] - 0s 241us/sample - loss: 0.1826 - acc: 0.9253 - val_loss: 0.2148 - val_acc: 0.9200\n",
      "Epoch 94/200\n",
      "1098/1098 [==============================] - 0s 246us/sample - loss: 0.1783 - acc: 0.9335 - val_loss: 0.2205 - val_acc: 0.9127\n",
      "Epoch 95/200\n",
      "1098/1098 [==============================] - 0s 241us/sample - loss: 0.1799 - acc: 0.9317 - val_loss: 0.2655 - val_acc: 0.9055\n",
      "Epoch 96/200\n",
      "1098/1098 [==============================] - 0s 234us/sample - loss: 0.2045 - acc: 0.9199 - val_loss: 0.2047 - val_acc: 0.9236\n",
      "Epoch 97/200\n",
      "1098/1098 [==============================] - 0s 226us/sample - loss: 0.1961 - acc: 0.9208 - val_loss: 0.2099 - val_acc: 0.9236\n",
      "Epoch 98/200\n",
      "1098/1098 [==============================] - 0s 229us/sample - loss: 0.1835 - acc: 0.9344 - val_loss: 0.2417 - val_acc: 0.9127\n",
      "Epoch 99/200\n",
      "1098/1098 [==============================] - 0s 232us/sample - loss: 0.1872 - acc: 0.9299 - val_loss: 0.2330 - val_acc: 0.9236\n",
      "Epoch 100/200\n",
      "1098/1098 [==============================] - 0s 218us/sample - loss: 0.1832 - acc: 0.9281 - val_loss: 0.2127 - val_acc: 0.9164\n",
      "Epoch 101/200\n",
      "1098/1098 [==============================] - 0s 194us/sample - loss: 0.1790 - acc: 0.9335 - val_loss: 0.2349 - val_acc: 0.9164\n",
      "Epoch 102/200\n",
      "1098/1098 [==============================] - 0s 186us/sample - loss: 0.1761 - acc: 0.9372 - val_loss: 0.2136 - val_acc: 0.9164\n",
      "Epoch 103/200\n",
      "1098/1098 [==============================] - 0s 185us/sample - loss: 0.1788 - acc: 0.9253 - val_loss: 0.2236 - val_acc: 0.9127\n",
      "Epoch 104/200\n",
      "1098/1098 [==============================] - 0s 189us/sample - loss: 0.1783 - acc: 0.9399 - val_loss: 0.2476 - val_acc: 0.9127\n",
      "Epoch 105/200\n",
      "1098/1098 [==============================] - 0s 206us/sample - loss: 0.1846 - acc: 0.9299 - val_loss: 0.2129 - val_acc: 0.9200\n",
      "Epoch 106/200\n",
      "1098/1098 [==============================] - 0s 193us/sample - loss: 0.1869 - acc: 0.9281 - val_loss: 0.2277 - val_acc: 0.9236\n",
      "Epoch 107/200\n",
      "1098/1098 [==============================] - 0s 193us/sample - loss: 0.1981 - acc: 0.9281 - val_loss: 0.2224 - val_acc: 0.9127\n",
      "Epoch 108/200\n",
      "1098/1098 [==============================] - 0s 228us/sample - loss: 0.1817 - acc: 0.9353 - val_loss: 0.2203 - val_acc: 0.9200\n",
      "Epoch 109/200\n",
      "1098/1098 [==============================] - 0s 205us/sample - loss: 0.1743 - acc: 0.9308 - val_loss: 0.2228 - val_acc: 0.9273\n",
      "Epoch 110/200\n",
      "1098/1098 [==============================] - 0s 204us/sample - loss: 0.1843 - acc: 0.9281 - val_loss: 0.2359 - val_acc: 0.9164\n",
      "Epoch 111/200\n",
      "1098/1098 [==============================] - 0s 200us/sample - loss: 0.1817 - acc: 0.9326 - val_loss: 0.2281 - val_acc: 0.9091\n",
      "Epoch 112/200\n",
      "1098/1098 [==============================] - 0s 224us/sample - loss: 0.1787 - acc: 0.9372 - val_loss: 0.2170 - val_acc: 0.9164\n",
      "Epoch 113/200\n",
      "1098/1098 [==============================] - 0s 201us/sample - loss: 0.1743 - acc: 0.9299 - val_loss: 0.2168 - val_acc: 0.9127\n",
      "Epoch 114/200\n",
      "1098/1098 [==============================] - 0s 198us/sample - loss: 0.1814 - acc: 0.9262 - val_loss: 0.2932 - val_acc: 0.8982\n",
      "Epoch 115/200\n",
      "1098/1098 [==============================] - 0s 210us/sample - loss: 0.1836 - acc: 0.9271 - val_loss: 0.3029 - val_acc: 0.8800\n",
      "Epoch 116/200\n",
      "1098/1098 [==============================] - 0s 236us/sample - loss: 0.2150 - acc: 0.9107 - val_loss: 0.2478 - val_acc: 0.9091\n",
      "Epoch 117/200\n",
      "1098/1098 [==============================] - 0s 215us/sample - loss: 0.1879 - acc: 0.9299 - val_loss: 0.2106 - val_acc: 0.9236\n",
      "Epoch 118/200\n",
      "1098/1098 [==============================] - 0s 198us/sample - loss: 0.1951 - acc: 0.9253 - val_loss: 0.2656 - val_acc: 0.9055\n",
      "Epoch 119/200\n",
      "1098/1098 [==============================] - 0s 205us/sample - loss: 0.1853 - acc: 0.9244 - val_loss: 0.2337 - val_acc: 0.9200\n",
      "Epoch 120/200\n",
      "1098/1098 [==============================] - 0s 208us/sample - loss: 0.1773 - acc: 0.9299 - val_loss: 0.2301 - val_acc: 0.9164\n",
      "Epoch 121/200\n",
      "1098/1098 [==============================] - 0s 197us/sample - loss: 0.1832 - acc: 0.9290 - val_loss: 0.2298 - val_acc: 0.9236\n",
      "Epoch 122/200\n",
      "1098/1098 [==============================] - 0s 198us/sample - loss: 0.1739 - acc: 0.9344 - val_loss: 0.2720 - val_acc: 0.9127\n",
      "Epoch 123/200\n",
      "1098/1098 [==============================] - 0s 201us/sample - loss: 0.1907 - acc: 0.9253 - val_loss: 0.2400 - val_acc: 0.9018\n",
      "Epoch 124/200\n",
      "1098/1098 [==============================] - 0s 195us/sample - loss: 0.1755 - acc: 0.9317 - val_loss: 0.2218 - val_acc: 0.9236\n",
      "Epoch 125/200\n",
      "1098/1098 [==============================] - 0s 210us/sample - loss: 0.1663 - acc: 0.9381 - val_loss: 0.2120 - val_acc: 0.9200\n",
      "Epoch 126/200\n",
      "1098/1098 [==============================] - 0s 203us/sample - loss: 0.1702 - acc: 0.9362 - val_loss: 0.2150 - val_acc: 0.9127\n",
      "Epoch 127/200\n",
      "1098/1098 [==============================] - 0s 197us/sample - loss: 0.1689 - acc: 0.9335 - val_loss: 0.2558 - val_acc: 0.9127\n",
      "Epoch 128/200\n",
      "1098/1098 [==============================] - 0s 204us/sample - loss: 0.1733 - acc: 0.9372 - val_loss: 0.2535 - val_acc: 0.9055\n",
      "Epoch 129/200\n",
      "1098/1098 [==============================] - 0s 209us/sample - loss: 0.1819 - acc: 0.9208 - val_loss: 0.2217 - val_acc: 0.9127\n",
      "Epoch 130/200\n",
      "1098/1098 [==============================] - 0s 215us/sample - loss: 0.1682 - acc: 0.9408 - val_loss: 0.2295 - val_acc: 0.9055\n",
      "Epoch 131/200\n",
      "1098/1098 [==============================] - 0s 192us/sample - loss: 0.1787 - acc: 0.9290 - val_loss: 0.2365 - val_acc: 0.9164\n",
      "Epoch 132/200\n",
      "1098/1098 [==============================] - 0s 204us/sample - loss: 0.1968 - acc: 0.9199 - val_loss: 0.2226 - val_acc: 0.9236\n",
      "Epoch 133/200\n",
      "1098/1098 [==============================] - 0s 202us/sample - loss: 0.1716 - acc: 0.9335 - val_loss: 0.2282 - val_acc: 0.9091\n",
      "Epoch 134/200\n",
      "1098/1098 [==============================] - 0s 192us/sample - loss: 0.1650 - acc: 0.9381 - val_loss: 0.2236 - val_acc: 0.9164\n",
      "Epoch 135/200\n",
      "1098/1098 [==============================] - 0s 223us/sample - loss: 0.1911 - acc: 0.9262 - val_loss: 0.2636 - val_acc: 0.8982\n",
      "Epoch 136/200\n",
      "1098/1098 [==============================] - 0s 199us/sample - loss: 0.1847 - acc: 0.9317 - val_loss: 0.2215 - val_acc: 0.9164\n",
      "Epoch 137/200\n",
      "1098/1098 [==============================] - 0s 208us/sample - loss: 0.1621 - acc: 0.9362 - val_loss: 0.2287 - val_acc: 0.9091\n",
      "Epoch 138/200\n",
      "1098/1098 [==============================] - 0s 187us/sample - loss: 0.1710 - acc: 0.9317 - val_loss: 0.2211 - val_acc: 0.9200\n",
      "Epoch 139/200\n",
      "1098/1098 [==============================] - 0s 199us/sample - loss: 0.1840 - acc: 0.9308 - val_loss: 0.2656 - val_acc: 0.9055\n",
      "Epoch 140/200\n",
      "1098/1098 [==============================] - 0s 209us/sample - loss: 0.1721 - acc: 0.9353 - val_loss: 0.2258 - val_acc: 0.9200\n",
      "Epoch 141/200\n",
      "1098/1098 [==============================] - 0s 191us/sample - loss: 0.1729 - acc: 0.9344 - val_loss: 0.2303 - val_acc: 0.9309\n",
      "Epoch 142/200\n",
      "1098/1098 [==============================] - 0s 191us/sample - loss: 0.1621 - acc: 0.9353 - val_loss: 0.2217 - val_acc: 0.9236\n",
      "Epoch 143/200\n",
      "1098/1098 [==============================] - 0s 195us/sample - loss: 0.1648 - acc: 0.9353 - val_loss: 0.2152 - val_acc: 0.9273\n",
      "Epoch 144/200\n",
      "1098/1098 [==============================] - 0s 209us/sample - loss: 0.1670 - acc: 0.9344 - val_loss: 0.2383 - val_acc: 0.9127\n",
      "Epoch 145/200\n",
      "1098/1098 [==============================] - 0s 197us/sample - loss: 0.1663 - acc: 0.9326 - val_loss: 0.2302 - val_acc: 0.9127\n",
      "Epoch 146/200\n",
      "1098/1098 [==============================] - 0s 201us/sample - loss: 0.1922 - acc: 0.9271 - val_loss: 0.2463 - val_acc: 0.9127\n",
      "Epoch 147/200\n",
      "1098/1098 [==============================] - 0s 192us/sample - loss: 0.2146 - acc: 0.9144 - val_loss: 0.2285 - val_acc: 0.9091\n",
      "Epoch 148/200\n",
      "1098/1098 [==============================] - 0s 193us/sample - loss: 0.1755 - acc: 0.9308 - val_loss: 0.2235 - val_acc: 0.9200\n",
      "Epoch 149/200\n",
      "1098/1098 [==============================] - 0s 196us/sample - loss: 0.1609 - acc: 0.9417 - val_loss: 0.2245 - val_acc: 0.9200\n",
      "Epoch 150/200\n",
      "1098/1098 [==============================] - 0s 232us/sample - loss: 0.1652 - acc: 0.9372 - val_loss: 0.2224 - val_acc: 0.9200\n",
      "Epoch 151/200\n",
      "1098/1098 [==============================] - 0s 198us/sample - loss: 0.1634 - acc: 0.9426 - val_loss: 0.2429 - val_acc: 0.9055\n",
      "Epoch 152/200\n",
      "1098/1098 [==============================] - 0s 202us/sample - loss: 0.1585 - acc: 0.9381 - val_loss: 0.2077 - val_acc: 0.9345\n",
      "Epoch 153/200\n",
      "1098/1098 [==============================] - 0s 201us/sample - loss: 0.1595 - acc: 0.9426 - val_loss: 0.2164 - val_acc: 0.9127\n",
      "Epoch 154/200\n",
      "1098/1098 [==============================] - 0s 202us/sample - loss: 0.1874 - acc: 0.9262 - val_loss: 0.2225 - val_acc: 0.9236\n",
      "Epoch 155/200\n",
      "1098/1098 [==============================] - 0s 219us/sample - loss: 0.1602 - acc: 0.9472 - val_loss: 0.2407 - val_acc: 0.9018\n",
      "Epoch 156/200\n",
      "1098/1098 [==============================] - 0s 199us/sample - loss: 0.2072 - acc: 0.9244 - val_loss: 0.2935 - val_acc: 0.8945\n",
      "Epoch 157/200\n",
      "1098/1098 [==============================] - 0s 217us/sample - loss: 0.1844 - acc: 0.9290 - val_loss: 0.2582 - val_acc: 0.9018\n",
      "Epoch 158/200\n",
      "1098/1098 [==============================] - 0s 227us/sample - loss: 0.1683 - acc: 0.9381 - val_loss: 0.2235 - val_acc: 0.9200\n",
      "Epoch 159/200\n",
      "1098/1098 [==============================] - 0s 227us/sample - loss: 0.1606 - acc: 0.9372 - val_loss: 0.2190 - val_acc: 0.9273\n",
      "Epoch 160/200\n",
      "1098/1098 [==============================] - 0s 226us/sample - loss: 0.1573 - acc: 0.9390 - val_loss: 0.2159 - val_acc: 0.9236\n",
      "Epoch 161/200\n",
      "1098/1098 [==============================] - 0s 227us/sample - loss: 0.1774 - acc: 0.9317 - val_loss: 0.2626 - val_acc: 0.9127\n",
      "Epoch 162/200\n",
      "1098/1098 [==============================] - 0s 223us/sample - loss: 0.1855 - acc: 0.9299 - val_loss: 0.2296 - val_acc: 0.9200\n",
      "Epoch 163/200\n",
      "1098/1098 [==============================] - 0s 227us/sample - loss: 0.1640 - acc: 0.9362 - val_loss: 0.2965 - val_acc: 0.9018\n",
      "Epoch 164/200\n",
      "1098/1098 [==============================] - 0s 233us/sample - loss: 0.1784 - acc: 0.9299 - val_loss: 0.2231 - val_acc: 0.9164\n",
      "Epoch 165/200\n",
      "1098/1098 [==============================] - 0s 187us/sample - loss: 0.1579 - acc: 0.9463 - val_loss: 0.2130 - val_acc: 0.9273\n",
      "Epoch 166/200\n",
      "1098/1098 [==============================] - 0s 213us/sample - loss: 0.1700 - acc: 0.9362 - val_loss: 0.2258 - val_acc: 0.9127\n",
      "Epoch 167/200\n",
      "1098/1098 [==============================] - 0s 209us/sample - loss: 0.1721 - acc: 0.9281 - val_loss: 0.2389 - val_acc: 0.9200\n",
      "Epoch 168/200\n",
      "1098/1098 [==============================] - 0s 203us/sample - loss: 0.1627 - acc: 0.9381 - val_loss: 0.2138 - val_acc: 0.9273\n",
      "Epoch 169/200\n",
      "1098/1098 [==============================] - 0s 232us/sample - loss: 0.1567 - acc: 0.9372 - val_loss: 0.2179 - val_acc: 0.9236\n",
      "Epoch 170/200\n",
      "1098/1098 [==============================] - 0s 224us/sample - loss: 0.1672 - acc: 0.9362 - val_loss: 0.2257 - val_acc: 0.9091\n",
      "Epoch 171/200\n",
      "1098/1098 [==============================] - 0s 236us/sample - loss: 0.1593 - acc: 0.9408 - val_loss: 0.2310 - val_acc: 0.9200\n",
      "Epoch 172/200\n",
      "1098/1098 [==============================] - 0s 209us/sample - loss: 0.1625 - acc: 0.9390 - val_loss: 0.2275 - val_acc: 0.9236\n",
      "Epoch 173/200\n",
      "1098/1098 [==============================] - 0s 206us/sample - loss: 0.1584 - acc: 0.9408 - val_loss: 0.2623 - val_acc: 0.9091\n",
      "Epoch 174/200\n",
      "1098/1098 [==============================] - 0s 208us/sample - loss: 0.1628 - acc: 0.9353 - val_loss: 0.2470 - val_acc: 0.9200\n",
      "Epoch 175/200\n",
      "1098/1098 [==============================] - 0s 138us/sample - loss: 0.1791 - acc: 0.9326 - val_loss: 0.3211 - val_acc: 0.8945\n",
      "Epoch 176/200\n",
      "1098/1098 [==============================] - 0s 142us/sample - loss: 0.1746 - acc: 0.9335 - val_loss: 0.2323 - val_acc: 0.9164\n",
      "Epoch 177/200\n",
      "1098/1098 [==============================] - 0s 134us/sample - loss: 0.1662 - acc: 0.9454 - val_loss: 0.2465 - val_acc: 0.9164\n",
      "Epoch 178/200\n",
      "1098/1098 [==============================] - 0s 137us/sample - loss: 0.1553 - acc: 0.9408 - val_loss: 0.2261 - val_acc: 0.9164\n",
      "Epoch 179/200\n",
      "1098/1098 [==============================] - 0s 146us/sample - loss: 0.1538 - acc: 0.9472 - val_loss: 0.2398 - val_acc: 0.9091\n",
      "Epoch 180/200\n",
      "1098/1098 [==============================] - 0s 138us/sample - loss: 0.1593 - acc: 0.9317 - val_loss: 0.2524 - val_acc: 0.9164\n",
      "Epoch 181/200\n",
      "1098/1098 [==============================] - 0s 208us/sample - loss: 0.1604 - acc: 0.9381 - val_loss: 0.2164 - val_acc: 0.9200\n",
      "Epoch 182/200\n",
      "1098/1098 [==============================] - 0s 222us/sample - loss: 0.1584 - acc: 0.9390 - val_loss: 0.2230 - val_acc: 0.9236\n",
      "Epoch 183/200\n",
      "1098/1098 [==============================] - 0s 210us/sample - loss: 0.1520 - acc: 0.9435 - val_loss: 0.2536 - val_acc: 0.9055\n",
      "Epoch 184/200\n",
      "1098/1098 [==============================] - 0s 224us/sample - loss: 0.1631 - acc: 0.9399 - val_loss: 0.2211 - val_acc: 0.9200\n",
      "Epoch 185/200\n",
      "1098/1098 [==============================] - 0s 227us/sample - loss: 0.1455 - acc: 0.9426 - val_loss: 0.2302 - val_acc: 0.9127\n",
      "Epoch 186/200\n",
      "1098/1098 [==============================] - 0s 228us/sample - loss: 0.1643 - acc: 0.9353 - val_loss: 0.2283 - val_acc: 0.9200\n",
      "Epoch 187/200\n",
      "1098/1098 [==============================] - 0s 223us/sample - loss: 0.1643 - acc: 0.9381 - val_loss: 0.2191 - val_acc: 0.9309\n",
      "Epoch 188/200\n",
      "1098/1098 [==============================] - 0s 225us/sample - loss: 0.1724 - acc: 0.9281 - val_loss: 0.2720 - val_acc: 0.8909\n",
      "Epoch 189/200\n",
      "1098/1098 [==============================] - 0s 228us/sample - loss: 0.1631 - acc: 0.9399 - val_loss: 0.2466 - val_acc: 0.9127\n",
      "Epoch 190/200\n",
      "1098/1098 [==============================] - 0s 208us/sample - loss: 0.1619 - acc: 0.9399 - val_loss: 0.2217 - val_acc: 0.9164\n",
      "Epoch 191/200\n",
      "1098/1098 [==============================] - 0s 224us/sample - loss: 0.1499 - acc: 0.9426 - val_loss: 0.2566 - val_acc: 0.9164\n",
      "Epoch 192/200\n",
      "1098/1098 [==============================] - 0s 230us/sample - loss: 0.1501 - acc: 0.9435 - val_loss: 0.2284 - val_acc: 0.9127\n",
      "Epoch 193/200\n",
      "1098/1098 [==============================] - 0s 205us/sample - loss: 0.1582 - acc: 0.9344 - val_loss: 0.2560 - val_acc: 0.9164\n",
      "Epoch 194/200\n",
      "1098/1098 [==============================] - 0s 257us/sample - loss: 0.1538 - acc: 0.9390 - val_loss: 0.2239 - val_acc: 0.9127\n",
      "Epoch 195/200\n",
      "1098/1098 [==============================] - 0s 215us/sample - loss: 0.1500 - acc: 0.9417 - val_loss: 0.2492 - val_acc: 0.9127\n",
      "Epoch 196/200\n",
      "1098/1098 [==============================] - 0s 209us/sample - loss: 0.1472 - acc: 0.9472 - val_loss: 0.2319 - val_acc: 0.9164\n",
      "Epoch 197/200\n",
      "1098/1098 [==============================] - 0s 232us/sample - loss: 0.1609 - acc: 0.9372 - val_loss: 0.2281 - val_acc: 0.9127\n",
      "Epoch 198/200\n",
      "1098/1098 [==============================] - 0s 229us/sample - loss: 0.1455 - acc: 0.9454 - val_loss: 0.2845 - val_acc: 0.9055\n",
      "Epoch 199/200\n",
      "1098/1098 [==============================] - 0s 216us/sample - loss: 0.1663 - acc: 0.9372 - val_loss: 0.2302 - val_acc: 0.9273\n",
      "Epoch 200/200\n",
      "1098/1098 [==============================] - 0s 235us/sample - loss: 0.1449 - acc: 0.9463 - val_loss: 0.2331 - val_acc: 0.9055\n"
     ]
    }
   ],
   "source": [
    "x_train, x_vl, y_train, y_vl = train_test_split(tr_x, tr_y, test_size=0.20, random_state=2019)\n",
    "history = model.fit(x_train, y_train,\n",
    "                    batch_size=16,\n",
    "                    epochs=200,\n",
    "\n",
    "                    validation_data=(x_vl, y_vl))"
   ]
  },
  {
   "cell_type": "code",
   "execution_count": 0,
   "metadata": {
    "colab": {
     "base_uri": "https://localhost:8080/",
     "height": 573
    },
    "colab_type": "code",
    "id": "KqMl5V5y0qeB",
    "outputId": "987a2e9a-e3b0-4922-ba6d-39f6f0e64582"
   },
   "outputs": [
    {
     "data": {
      "image/png": "[encoded data removed]",
      "text/plain": [
       "<Figure size 432x288 with 1 Axes>"
      ]
     },
     "metadata": {
      "tags": []
     },
     "output_type": "display_data"
    },
    {
     "data": {
      "image/png": "[encoded data removed]",
      "text/plain": [
       "<Figure size 432x288 with 1 Axes>"
      ]
     },
     "metadata": {
      "tags": []
     },
     "output_type": "display_data"
    }
   ],
   "source": [
    "plot_hist(history)"
   ]
  },
  {
   "cell_type": "code",
   "execution_count": 0,
   "metadata": {
    "colab": {
     "base_uri": "https://localhost:8080/",
     "height": 102
    },
    "colab_type": "code",
    "id": "N14_-C010qeD",
    "outputId": "3751a74a-f04c-46d7-bcde-c23d3fdbb829"
   },
   "outputs": [
    {
     "name": "stdout",
     "output_type": "stream",
     "text": [
      "138/138 [==============================] - 0s 537us/sample - loss: 0.4939 - acc: 0.8768\n",
      "\n",
      "m=3, test=C\n",
      " test loss: 0.49386031671926595\n",
      "  test acc: 0.8768116235733032\n"
     ]
    }
   ],
   "source": [
    "results1=model.evaluate(ts_x, ts_y, batch_size=32)\n",
    "print('\\nm=3, test=C\\n test loss: {}\\n  test acc: {}'.format(results1[0],results1[1]))"
   ]
  },
  {
   "cell_type": "code",
   "execution_count": 0,
   "metadata": {
    "colab": {
     "base_uri": "https://localhost:8080/",
     "height": 102
    },
    "colab_type": "code",
    "id": "Q9gBF63g0qeF",
    "outputId": "ed33f903-085a-4c93-dbf8-4007f147f17c"
   },
   "outputs": [
    {
     "name": "stdout",
     "output_type": "stream",
     "text": [
      "104/104 [==============================] - 0s 311us/sample - loss: 0.2709 - acc: 0.9712\n",
      "\n",
      "m=3, test=D\n",
      " test loss: 0.27093212879621065\n",
      "  test acc: 0.9711538553237915\n"
     ]
    }
   ],
   "source": [
    "results2=model.evaluate(ts_x2, ts_y2, batch_size=32)\n",
    "print('\\nm=3, test=D\\n test loss: {}\\n  test acc: {}'.format(results2[0],results2[1]))"
   ]
  },
  {
   "cell_type": "markdown",
   "metadata": {
    "colab": {},
    "colab_type": "code",
    "id": "sFYFLr6u0qeH"
   },
   "source": [
    "## check where model did not predict correctly"
   ]
  },
  {
   "cell_type": "code",
   "execution_count": null,
   "metadata": {},
   "outputs": [],
   "source": [
    "_, _, ts_x_df, ts_y_lbl, ts_x2_df, ts_y2_lbl = generate_tr_ts(df1=central, df2=site, m=3, method=None, h=3000, seed=2019, normalize=False)"
   ]
  },
  {
   "cell_type": "code",
   "execution_count": null,
   "metadata": {},
   "outputs": [],
   "source": [
    "def prediction(encoder, model, test_x):\n",
    "    pred=model.predict(test_x)\n",
    "    return encoder.inverse_transform(np.round(pred))\n",
    "def return_predict(encoder, model, test_x, test_y):\n",
    "    pred=prediction(encoder, model, test_x)\n",
    "    results=[pred==true for pred, true in list(zip(pred,test_y))]\n",
    "    return results"
   ]
  },
  {
   "cell_type": "code",
   "execution_count": null,
   "metadata": {},
   "outputs": [],
   "source": [
    "ts_x_df['Label']=ts_y_lbl['TRGRESP']\n",
    "ts_x_df['Pred']=prediction(encoder, model, ts_x)\n",
    "ts_x_df['Correct']=return_predict(encoder, model, ts_x, ts_y_lbl['TRGRESP'])\n",
    "ts_x_df"
   ]
  },
  {
   "cell_type": "code",
   "execution_count": null,
   "metadata": {},
   "outputs": [],
   "source": [
    "ts_x2_df['Label']=ts_y2_lbl['TRGRESP']\n",
    "ts_x2_df['Pred']=prediction(encoder, model, ts_x2)\n",
    "ts_x2_df['Correct']=return_predict(encoder, model, ts_x2, ts_y2_lbl['TRGRESP'])\n",
    "ts_x2_df"
   ]
  }
 ],
 "metadata": {
  "colab": {
   "include_colab_link": true,
   "name": "05-fnn-tumor_prediction-sites-central-google-cola.ipynb",
   "provenance": [],
   "toc_visible": true
  },
  "kernelspec": {
   "display_name": "conda_tensorflow_p36",
   "language": "python",
   "name": "conda_tensorflow_p36"
  },
  "language_info": {
   "codemirror_mode": {
    "name": "ipython",
    "version": 3
   },
   "file_extension": ".py",
   "mimetype": "text/x-python",
   "name": "python",
   "nbconvert_exporter": "python",
   "pygments_lexer": "ipython3",
   "version": "3.6.5"
  }
 },
 "nbformat": 4,
 "nbformat_minor": 1
}
